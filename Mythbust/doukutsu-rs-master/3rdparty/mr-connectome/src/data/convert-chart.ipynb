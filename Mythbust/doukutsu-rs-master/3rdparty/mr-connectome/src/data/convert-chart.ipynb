{
 "cells": [
  {
   "cell_type": "markdown",
   "metadata": {},
   "source": [
    "## csv format converter\n",
    "A dirty and simple csv format converter that takes the connectome map from the original project and squishes it down to work with my library."
   ]
  },
  {
   "cell_type": "code",
   "execution_count": 1,
   "metadata": {},
   "outputs": [],
   "source": [
    "import csv\n"
   ]
  },
  {
   "cell_type": "markdown",
   "metadata": {},
   "source": [
    "Read table into internal database and re-format it to match the format I need for this library"
   ]
  },
  {
   "cell_type": "code",
   "execution_count": 11,
   "metadata": {},
   "outputs": [],
   "source": [
    "output_csv = [[]]\n",
    "row_index = -1\n",
    "\n",
    "with open('CElegansConnectome.csv', mode ='r')as file:\n",
    "    csvFile = csv.reader(file)\n",
    "\n",
    "    key_val = \"\"\n",
    "    for lines in csvFile:\n",
    "\n",
    "        #line affects new neuron, make new row\n",
    "        if lines[0] != key_val:\n",
    "            key_val = lines[0]\n",
    "            row_index += 1\n",
    "            output_csv.append([])\n",
    "            output_csv[row_index].append(lines[0])\n",
    "\n",
    "        output_csv[row_index].append(lines[1])\n",
    "        output_csv[row_index].append(lines[2])\n",
    "\n",
    "\n",
    "#write out\n",
    "\n",
    "# Specify the file name\n",
    "csv_file = 'output.csv'\n",
    "\n",
    "# Write the data to the CSV file\n",
    "with open(csv_file, 'w', newline='') as file:\n",
    "    writer = csv.writer(file)\n",
    "    writer.writerows(output_csv)\n"
   ]
  }
 ],
 "metadata": {
  "kernelspec": {
   "display_name": "Python 3",
   "language": "python",
   "name": "python3"
  },
  "language_info": {
   "codemirror_mode": {
    "name": "ipython",
    "version": 3
   },
   "file_extension": ".py",
   "mimetype": "text/x-python",
   "name": "python",
   "nbconvert_exporter": "python",
   "pygments_lexer": "ipython3",
   "version": "3.11.1"
  }
 },
 "nbformat": 4,
 "nbformat_minor": 2
}
